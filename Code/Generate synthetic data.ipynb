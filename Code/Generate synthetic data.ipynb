{
 "cells": [
  {
   "cell_type": "code",
   "execution_count": 28,
   "id": "aef03db9",
   "metadata": {},
   "outputs": [],
   "source": [
    "import pandas as pd\n",
    "import numpy as np\n",
    "\n",
    "# Define the variables\n",
    "n = 10000\n",
    "user_id = np.random.randint(100000, 999999, n)\n",
    "sessions = np.random.randint(1, 20, n)\n",
    "page_views = sessions * np.random.randint(2, 50, n)\n",
    "location = np.random.choice(['Paris', 'Berlin', 'Amsterdam', 'Madrid', 'London'], n)\n",
    "has_viewed_pricing = np.random.choice([True, False], n)\n",
    "has_viewed_faqs = np.random.choice([True, False], n)\n",
    "has_converted = np.random.binomial(1, 1/(1+np.exp(-(0.002*page_views+0.002*has_viewed_pricing))), n)\n",
    "\n",
    "# Combine into a DataFrame\n",
    "data = pd.DataFrame({'User_id': user_id,\n",
    "                     'Sessions': sessions,\n",
    "                     'Page_views': page_views,\n",
    "                     'Location': location,\n",
    "                     'Has_viewed_pricing': has_viewed_pricing,\n",
    "                     'Has_viewed_faqs': has_viewed_faqs,\n",
    "                     'Has_converted': has_converted})\n",
    "\n",
    "data.to_csv(\"synthetic_data.csv\")"
   ]
  }
 ],
 "metadata": {
  "kernelspec": {
   "display_name": "Python 3 (ipykernel)",
   "language": "python",
   "name": "python3"
  },
  "language_info": {
   "codemirror_mode": {
    "name": "ipython",
    "version": 3
   },
   "file_extension": ".py",
   "mimetype": "text/x-python",
   "name": "python",
   "nbconvert_exporter": "python",
   "pygments_lexer": "ipython3",
   "version": "3.9.16"
  }
 },
 "nbformat": 4,
 "nbformat_minor": 5
}
